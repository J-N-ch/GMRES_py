{
  "cells": [
    {
      "cell_type": "code",
      "metadata": {},
      "source": [
        "import numpy as np\n",
        "\n",
        "class RestartAlgorithm(object):\n",
        "    def __init__( self ):\n",
        "        pass\n",
        "\n",
        "    def kernel_algorithm_register( self, kernel_algorithm ):\n",
        "        self.k_algo = kernel_algorithm\n",
        "        #print( type( self.k_algo ) )\n",
        "\n",
        "    def restart_initial_input( self, initial_input_vector ):\n",
        "        self.init_in = initial_input_vector\n",
        "\n",
        "    def maximum_restarting_iteration_register( self, maximum_restarting_iteration ):\n",
        "        self.max_rst_iter = maximum_restarting_iteration\n",
        "        #print(self.max_rst_iter)\n",
        "\n",
        "    def run_restart( self ):\n",
        "         \n",
        "        self.final_residual_trend = np.array([], dtype = float )\n",
        "\n",
        "        for restart_counter in range(self.max_rst_iter):\n",
        "\n",
        "            self.k_algo.initial_guess_input( self.init_in )\n",
        "\n",
        "            # run the kernel algorithm in each restart\n",
        "            self.restart_output = self.k_algo.run()\n",
        "\n",
        "            self.init_in = self.restart_output\n",
        "\n",
        "            print( restart_counter+1, \": \", end = '' )\n",
        "\n",
        "            self.final_residual_trend = np.append( self.final_residual_trend, self.k_algo.final_residual_info_show() )\n",
        "             \n",
        "        return self.restart_output, self.final_residual_trend\n",
        "\n"
      ],
      "outputs": [],
      "execution_count": null
    }
  ],
  "metadata": {
    "anaconda-cloud": {},
    "kernelspec": {
      "display_name": "Python 3",
      "language": "python",
      "name": "python3"
    },
    "language_info": {
      "codemirror_mode": {
        "name": "ipython",
        "version": 3
      },
      "file_extension": ".py",
      "mimetype": "text/x-python",
      "name": "python",
      "nbconvert_exporter": "python",
      "pygments_lexer": "ipython3",
      "version": "3.6.1"
    }
  },
  "nbformat": 4,
  "nbformat_minor": 1
}