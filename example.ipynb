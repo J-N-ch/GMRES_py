{
  "cells": [
    {
      "cell_type": "code",
      "metadata": {},
      "source": [
        "import numpy as np\n",
        "import GMRES\n",
        "import RestartAlgorithm\n",
        "from matplotlib import pyplot as plt \n",
        "\n",
        "def main():\n",
        "\n",
        "    A_mat = np.array( [\n",
        "                       [1.00, 1.00, 1.00],\n",
        "                       [1.50, 2.00, 1.00],\n",
        "                       [0.30, 0.50, 3.00],\n",
        "                      ] )\n",
        "\n",
        "    b_mat = np.array( [\n",
        "                       3.0,\n",
        "                       2.0,\n",
        "                       1.0,\n",
        "                      ] )\n",
        "\n",
        "    # GMRES with restart, 2 iterations in each restart ( GMRES(2) )\n",
        "    GMRES_test_itr2 = GMRES.GMRES_API( A_mat, b_mat, 2, 0.01)\n",
        "    x_mat = np.array( [\n",
        "                       1.0,\n",
        "                       1.0,\n",
        "                       1.0,\n",
        "                      ] )\n",
        "    print(\"x  =\", x_mat)\n",
        "\n",
        "\n",
        "    # The restatrt algorithm of GMRES\n",
        "    #=============================================================\n",
        "    restarted_GMRES = RestartAlgorithm.RestartAlgorithm()\n",
        "    restarted_GMRES.kernel_algorithm_register( GMRES_test_itr2 )\n",
        "    restarted_GMRES.restart_initial_input( x_mat )\n",
        "    restarted_GMRES.maximum_restarting_iteration_register( 35 )\n",
        "    x_final, r_trend = restarted_GMRES.run_restart()\n",
        "    #=============================================================\n",
        "\n",
        "    xx = np.matmul( np.linalg.inv(A_mat), b_mat )\n",
        "    print(\"ANS : xx =\", xx) \n",
        "\n",
        "\n",
        "    # Draw the residual trend by the sequence of restarts\n",
        "    #============================================\n",
        "    plt.title(\"restarted_GMRES_residual_trend\") \n",
        "    plt.xlabel(\"restart\") \n",
        "    plt.ylabel(\"residual\") \n",
        "    plt.plot(r_trend)\n",
        "    plt.show()\n",
        "    #============================================\n",
        "\n",
        "\n",
        "if __name__ == '__main__':\n",
        "    main()\n",
        "\n"
      ],
      "outputs": [],
      "execution_count": null
    }
  ],
  "metadata": {
    "anaconda-cloud": {},
    "kernelspec": {
      "display_name": "Python 3",
      "language": "python",
      "name": "python3"
    },
    "language_info": {
      "codemirror_mode": {
        "name": "ipython",
        "version": 3
      },
      "file_extension": ".py",
      "mimetype": "text/x-python",
      "name": "python",
      "nbconvert_exporter": "python",
      "pygments_lexer": "ipython3",
      "version": "3.6.1"
    }
  },
  "nbformat": 4,
  "nbformat_minor": 1
}